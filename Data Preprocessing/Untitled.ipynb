{
 "cells": [
  {
   "cell_type": "markdown",
   "id": "4885a62f-dc90-4136-8080-ada6dc1b80e4",
   "metadata": {},
   "source": [
    "## DECIMAL SCALING"
   ]
  },
  {
   "cell_type": "markdown",
   "id": "d9a62f90-0fc6-4427-b614-da625ddbbf96",
   "metadata": {},
   "source": [
    "## 1.IMPORT THE NECESSARY LIBRARIES\n"
   ]
  },
  {
   "cell_type": "code",
   "execution_count": 5,
   "id": "bdae0166-aa6d-4d81-9ff3-01d308928cac",
   "metadata": {},
   "outputs": [],
   "source": [
    "import pandas as pd\n",
    "from sklearn.preprocessing import FunctionTransformer\n",
    "import numpy as np"
   ]
  },
  {
   "cell_type": "code",
   "execution_count": 6,
   "id": "8f4a21a7-43b9-4081-83cb-eb442576e695",
   "metadata": {},
   "outputs": [],
   "source": [
    "data={\n",
    "    'bedroom':[1,2,3,4,5],\n",
    "    'bathroom':[1,2,2,3,2,],\n",
    "    'sqrt_living':[500,1000,1500,2000,2500],\n",
    "    'age_of_the-house':[5,10,15,20,25],\n",
    "    'price':[100000,150000,200000,2500000,3000000]\n",
    "    }"
   ]
  },
  {
   "cell_type": "code",
   "execution_count": 7,
   "id": "1a92f1f4-c1f5-4f0a-8240-aaa12fe3aeb8",
   "metadata": {},
   "outputs": [],
   "source": [
    "df=pd.DataFrame(data)"
   ]
  },
  {
   "cell_type": "code",
   "execution_count": 8,
   "id": "eccf5199-9a5c-4fc6-ae94-1bfdc7368f03",
   "metadata": {},
   "outputs": [
    {
     "data": {
      "text/html": [
       "<div>\n",
       "<style scoped>\n",
       "    .dataframe tbody tr th:only-of-type {\n",
       "        vertical-align: middle;\n",
       "    }\n",
       "\n",
       "    .dataframe tbody tr th {\n",
       "        vertical-align: top;\n",
       "    }\n",
       "\n",
       "    .dataframe thead th {\n",
       "        text-align: right;\n",
       "    }\n",
       "</style>\n",
       "<table border=\"1\" class=\"dataframe\">\n",
       "  <thead>\n",
       "    <tr style=\"text-align: right;\">\n",
       "      <th></th>\n",
       "      <th>bedroom</th>\n",
       "      <th>bathroom</th>\n",
       "      <th>sqrt_living</th>\n",
       "      <th>age_of_the-house</th>\n",
       "      <th>price</th>\n",
       "    </tr>\n",
       "  </thead>\n",
       "  <tbody>\n",
       "    <tr>\n",
       "      <th>0</th>\n",
       "      <td>1</td>\n",
       "      <td>1</td>\n",
       "      <td>500</td>\n",
       "      <td>5</td>\n",
       "      <td>100000</td>\n",
       "    </tr>\n",
       "    <tr>\n",
       "      <th>1</th>\n",
       "      <td>2</td>\n",
       "      <td>2</td>\n",
       "      <td>1000</td>\n",
       "      <td>10</td>\n",
       "      <td>150000</td>\n",
       "    </tr>\n",
       "    <tr>\n",
       "      <th>2</th>\n",
       "      <td>3</td>\n",
       "      <td>2</td>\n",
       "      <td>1500</td>\n",
       "      <td>15</td>\n",
       "      <td>200000</td>\n",
       "    </tr>\n",
       "    <tr>\n",
       "      <th>3</th>\n",
       "      <td>4</td>\n",
       "      <td>3</td>\n",
       "      <td>2000</td>\n",
       "      <td>20</td>\n",
       "      <td>2500000</td>\n",
       "    </tr>\n",
       "    <tr>\n",
       "      <th>4</th>\n",
       "      <td>5</td>\n",
       "      <td>2</td>\n",
       "      <td>2500</td>\n",
       "      <td>25</td>\n",
       "      <td>3000000</td>\n",
       "    </tr>\n",
       "  </tbody>\n",
       "</table>\n",
       "</div>"
      ],
      "text/plain": [
       "   bedroom  bathroom  sqrt_living  age_of_the-house    price\n",
       "0        1         1          500                 5   100000\n",
       "1        2         2         1000                10   150000\n",
       "2        3         2         1500                15   200000\n",
       "3        4         3         2000                20  2500000\n",
       "4        5         2         2500                25  3000000"
      ]
     },
     "execution_count": 8,
     "metadata": {},
     "output_type": "execute_result"
    }
   ],
   "source": [
    "df"
   ]
  },
  {
   "cell_type": "markdown",
   "id": "47578b3e-2ede-4650-90c9-592180c92eae",
   "metadata": {},
   "source": [
    "## Create the Decimal_Scaler Library"
   ]
  },
  {
   "cell_type": "code",
   "execution_count": 11,
   "id": "0adccc3f-c4b8-4e4b-9ee8-d39ec2efd41a",
   "metadata": {},
   "outputs": [],
   "source": [
    "def  Decimal_Scaler(X):\n",
    "    max_avg = np.max(np.abs(X))\n",
    "    scale=10**np.cell(np.log10(max_abv))\n",
    "    return X/scale"
   ]
  },
  {
   "cell_type": "markdown",
   "id": "c4fcac61-aa83-41b6-860c-5fc7612fa05f",
   "metadata": {},
   "source": [
    "## Applying the decimal_scaling technique\n"
   ]
  },
  {
   "cell_type": "code",
   "execution_count": 12,
   "id": "ace41466-6119-4ad6-a5c6-54467461a295",
   "metadata": {},
   "outputs": [
    {
     "ename": "NameError",
     "evalue": "name 'decimal_scaler' is not defined",
     "output_type": "error",
     "traceback": [
      "\u001b[1;31m---------------------------------------------------------------------------\u001b[0m",
      "\u001b[1;31mNameError\u001b[0m                                 Traceback (most recent call last)",
      "Cell \u001b[1;32mIn[12], line 1\u001b[0m\n\u001b[1;32m----> 1\u001b[0m transformer\u001b[38;5;241m=\u001b[39mFunctionTransformer(decimal_scaler)\n",
      "\u001b[1;31mNameError\u001b[0m: name 'decimal_scaler' is not defined"
     ]
    }
   ],
   "source": [
    "transformer=FunctionTransformer(decimal_scaler)"
   ]
  },
  {
   "cell_type": "code",
   "execution_count": null,
   "id": "1d11bd6e-377d-44d1-a0c5-17ed8a1681ee",
   "metadata": {},
   "outputs": [],
   "source": []
  }
 ],
 "metadata": {
  "kernelspec": {
   "display_name": "Python 3 (ipykernel)",
   "language": "python",
   "name": "python3"
  },
  "language_info": {
   "codemirror_mode": {
    "name": "ipython",
    "version": 3
   },
   "file_extension": ".py",
   "mimetype": "text/x-python",
   "name": "python",
   "nbconvert_exporter": "python",
   "pygments_lexer": "ipython3",
   "version": "3.11.7"
  }
 },
 "nbformat": 4,
 "nbformat_minor": 5
}
