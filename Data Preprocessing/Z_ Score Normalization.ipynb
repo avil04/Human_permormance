{
 "cells": [
  {
   "cell_type": "markdown",
   "id": "249a067d-b5e3-4a29-915b-2e33eebdfa1f",
   "metadata": {},
   "source": [
    "## 2.Z_Score  Normalization"
   ]
  },
  {
   "cell_type": "markdown",
   "id": "0d54f1f7-32ea-470b-bf79-e0bf6ad814cc",
   "metadata": {},
   "source": [
    "## 2.1.Import The Necessary Libraries"
   ]
  },
  {
   "cell_type": "code",
   "execution_count": 1,
   "id": "cf86a440-de61-4743-9f9a-5a790736cef6",
   "metadata": {},
   "outputs": [],
   "source": [
    "import pandas as pd\n",
    "from sklearn.preprocessing import StandardScaler"
   ]
  },
  {
   "cell_type": "markdown",
   "id": "ac23b811-a055-46e5-b8bd-aa4b6442bfb2",
   "metadata": {},
   "source": [
    "## 2.2 create the dataset "
   ]
  },
  {
   "cell_type": "code",
   "execution_count": 2,
   "id": "87a9c084-3d02-480e-8362-cbfbbd9db464",
   "metadata": {},
   "outputs": [],
   "source": [
    "data={\n",
    "    'bedroom':[1,2,3,4,5],\n",
    "    'bathroom':[1,2,2,3,2,],\n",
    "    'sqrt_living':[500,1000,1500,2000,2500],\n",
    "    'age_of_the-house':[5,10,15,20,25],\n",
    "    'price':[100000,150000,200000,2500000,3000000]\n",
    "    }"
   ]
  },
  {
   "cell_type": "markdown",
   "id": "7d8e6827-9311-4e45-8f81-e31423bc9ce3",
   "metadata": {},
   "source": [
    "## 2.3 converting array to dataframe"
   ]
  },
  {
   "cell_type": "code",
   "execution_count": 7,
   "id": "5fd27bec-9014-44a4-a29c-4f683feca743",
   "metadata": {
    "jp-MarkdownHeadingCollapsed": true
   },
   "outputs": [],
   "source": [
    "df=pd.DataFrame(data)"
   ]
  },
  {
   "cell_type": "code",
   "execution_count": 4,
   "id": "fcdd4a3d-7281-4449-9065-d853fb2feed0",
   "metadata": {},
   "outputs": [],
   "source": [
    "scaler=StandardScaler()"
   ]
  },
  {
   "cell_type": "markdown",
   "id": "56bfd76a-3318-494c-ba11-fc90569cdee1",
   "metadata": {},
   "source": [
    "## 2.4 Fit the Data"
   ]
  },
  {
   "cell_type": "code",
   "execution_count": 8,
   "id": "a8f773d2-d9ad-47c5-85af-27c92ba0322d",
   "metadata": {},
   "outputs": [],
   "source": [
    "normalized_data=scaler.fit_transform(df)"
   ]
  },
  {
   "cell_type": "code",
   "execution_count": 9,
   "id": "90fddfd2-1a28-428a-b965-7a7dfe740708",
   "metadata": {},
   "outputs": [
    {
     "data": {
      "text/plain": [
       "array([[-1.41421356, -1.58113883, -1.41421356, -1.41421356, -0.84897557],\n",
       "       [-0.70710678,  0.        , -0.70710678, -0.70710678, -0.81003174],\n",
       "       [ 0.        ,  0.        ,  0.        ,  0.        , -0.77108791],\n",
       "       [ 0.70710678,  1.58113883,  0.70710678,  0.70710678,  1.02032844],\n",
       "       [ 1.41421356,  0.        ,  1.41421356,  1.41421356,  1.40976678]])"
      ]
     },
     "execution_count": 9,
     "metadata": {},
     "output_type": "execute_result"
    }
   ],
   "source": [
    "normalized_data"
   ]
  },
  {
   "cell_type": "code",
   "execution_count": 10,
   "id": "42d8b4dd-faaf-430f-97f2-ac72d87d5ea2",
   "metadata": {},
   "outputs": [],
   "source": [
    "normalized_convert=pd.DataFrame(normalized_data,columns=df.columns)"
   ]
  },
  {
   "cell_type": "code",
   "execution_count": 11,
   "id": "1609a421-b591-4607-85b2-c506cb283e67",
   "metadata": {},
   "outputs": [
    {
     "data": {
      "text/html": [
       "<div>\n",
       "<style scoped>\n",
       "    .dataframe tbody tr th:only-of-type {\n",
       "        vertical-align: middle;\n",
       "    }\n",
       "\n",
       "    .dataframe tbody tr th {\n",
       "        vertical-align: top;\n",
       "    }\n",
       "\n",
       "    .dataframe thead th {\n",
       "        text-align: right;\n",
       "    }\n",
       "</style>\n",
       "<table border=\"1\" class=\"dataframe\">\n",
       "  <thead>\n",
       "    <tr style=\"text-align: right;\">\n",
       "      <th></th>\n",
       "      <th>bedroom</th>\n",
       "      <th>bathroom</th>\n",
       "      <th>sqrt_living</th>\n",
       "      <th>age_of_the-house</th>\n",
       "      <th>price</th>\n",
       "    </tr>\n",
       "  </thead>\n",
       "  <tbody>\n",
       "    <tr>\n",
       "      <th>0</th>\n",
       "      <td>-1.414214</td>\n",
       "      <td>-1.581139</td>\n",
       "      <td>-1.414214</td>\n",
       "      <td>-1.414214</td>\n",
       "      <td>-0.848976</td>\n",
       "    </tr>\n",
       "    <tr>\n",
       "      <th>1</th>\n",
       "      <td>-0.707107</td>\n",
       "      <td>0.000000</td>\n",
       "      <td>-0.707107</td>\n",
       "      <td>-0.707107</td>\n",
       "      <td>-0.810032</td>\n",
       "    </tr>\n",
       "    <tr>\n",
       "      <th>2</th>\n",
       "      <td>0.000000</td>\n",
       "      <td>0.000000</td>\n",
       "      <td>0.000000</td>\n",
       "      <td>0.000000</td>\n",
       "      <td>-0.771088</td>\n",
       "    </tr>\n",
       "    <tr>\n",
       "      <th>3</th>\n",
       "      <td>0.707107</td>\n",
       "      <td>1.581139</td>\n",
       "      <td>0.707107</td>\n",
       "      <td>0.707107</td>\n",
       "      <td>1.020328</td>\n",
       "    </tr>\n",
       "    <tr>\n",
       "      <th>4</th>\n",
       "      <td>1.414214</td>\n",
       "      <td>0.000000</td>\n",
       "      <td>1.414214</td>\n",
       "      <td>1.414214</td>\n",
       "      <td>1.409767</td>\n",
       "    </tr>\n",
       "  </tbody>\n",
       "</table>\n",
       "</div>"
      ],
      "text/plain": [
       "    bedroom  bathroom  sqrt_living  age_of_the-house     price\n",
       "0 -1.414214 -1.581139    -1.414214         -1.414214 -0.848976\n",
       "1 -0.707107  0.000000    -0.707107         -0.707107 -0.810032\n",
       "2  0.000000  0.000000     0.000000          0.000000 -0.771088\n",
       "3  0.707107  1.581139     0.707107          0.707107  1.020328\n",
       "4  1.414214  0.000000     1.414214          1.414214  1.409767"
      ]
     },
     "execution_count": 11,
     "metadata": {},
     "output_type": "execute_result"
    }
   ],
   "source": [
    "normalized_convert"
   ]
  },
  {
   "cell_type": "code",
   "execution_count": null,
   "id": "6768976f-7eea-4fb9-9c67-279e7f34cdba",
   "metadata": {},
   "outputs": [],
   "source": []
  }
 ],
 "metadata": {
  "kernelspec": {
   "display_name": "Python 3 (ipykernel)",
   "language": "python",
   "name": "python3"
  },
  "language_info": {
   "codemirror_mode": {
    "name": "ipython",
    "version": 3
   },
   "file_extension": ".py",
   "mimetype": "text/x-python",
   "name": "python",
   "nbconvert_exporter": "python",
   "pygments_lexer": "ipython3",
   "version": "3.11.7"
  }
 },
 "nbformat": 4,
 "nbformat_minor": 5
}
